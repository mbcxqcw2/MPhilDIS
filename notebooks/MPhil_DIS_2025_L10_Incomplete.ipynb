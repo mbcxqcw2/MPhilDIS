{
  "nbformat": 4,
  "nbformat_minor": 0,
  "metadata": {
    "colab": {
      "provenance": []
    },
    "kernelspec": {
      "name": "python3",
      "display_name": "Python 3"
    },
    "language_info": {
      "name": "python"
    }
  },
  "cells": [
    {
      "cell_type": "markdown",
      "source": [
        "## MPhil in Data Intensive Science 2024-2025\n",
        "## Minor Module A1: Data Driven Radio Astronomy in the SKA Era\n",
        "## Lecture 10: Time-domain radio astronomy II"
      ],
      "metadata": {
        "id": "TlkgdD84gQBh"
      }
    },
    {
      "cell_type": "markdown",
      "source": [
        "## **Set Up The Notebook**"
      ],
      "metadata": {
        "id": "UOHdPARGal70"
      }
    },
    {
      "cell_type": "markdown",
      "source": [
        "### **Import standard functions**"
      ],
      "metadata": {
        "id": "rAbEmu4laR6r"
      }
    },
    {
      "cell_type": "code",
      "source": [
        "#import standard functions\n",
        "import numpy as np\n",
        "from matplotlib import pyplot as plt\n",
        "import scipy.stats as stats\n",
        "import sys\n",
        "import os"
      ],
      "metadata": {
        "id": "i1COQkR5aK2y"
      },
      "execution_count": null,
      "outputs": []
    },
    {
      "cell_type": "markdown",
      "source": [
        "### **Git clone required repository**"
      ],
      "metadata": {
        "id": "KF8O0CbbBei3"
      }
    },
    {
      "cell_type": "code",
      "source": [
        "#check to see if we have downloaded the git repo necessary to run this notebook\n",
        "if os.path.isdir('MPhilDIS/data'): #if yes, update the repo\n",
        "    %cd MPhilDIS\n",
        "    !git pull https://github.com/mbcxqcw2/MPhilDIS.git\n",
        "    %cd ..\n",
        "else: #if not, download the repo\n",
        "    !git clone https://github.com/mbcxqcw2/MPhilDIS.git\n",
        "\n",
        "# check that the data has been downloaded\n",
        "!ls MPhilDIS/data"
      ],
      "metadata": {
        "id": "fUN3SMtyZo-i"
      },
      "execution_count": null,
      "outputs": []
    },
    {
      "cell_type": "markdown",
      "source": [
        "### **Import Git repo functions**"
      ],
      "metadata": {
        "id": "nc1sleHWae6C"
      }
    },
    {
      "cell_type": "code",
      "source": [
        "#import bespoke functions\n",
        "sys.path.insert(1,'MPhilDIS/functions/') #import our git cloned functions repo into path\n",
        "from funcs import * #import our functions from the functions repo"
      ],
      "metadata": {
        "id": "0vrt9rduap47"
      },
      "execution_count": null,
      "outputs": []
    },
    {
      "cell_type": "markdown",
      "source": [
        "# **Begin**"
      ],
      "metadata": {
        "id": "i2YntdztbOe_"
      }
    },
    {
      "cell_type": "markdown",
      "source": [
        "## **Introduction**"
      ],
      "metadata": {
        "id": "ZqKYqMN1BvsO"
      }
    },
    {
      "cell_type": "markdown",
      "source": [
        "Welcome to Lecture 10 of your A1 minor module: ```Data Driven Radio Astronomy in the SKA Era``` This lecture serves as a practical follow-up to Lecture 9: ```Time Domain Astronomy (from baseband to discovery)```.\n",
        "\n",
        " During this lecture, we will walk through the process of analysing a common type of time domain radio astronomy data. Starting with a simulated ```dynamic spectrum```, we will develop practical experience in ```RFI mitigation```, and ```dedispersion```, and eventually identify which pulsar this dataset belongs to.\n"
      ],
      "metadata": {
        "id": "O5O5daKPbXev"
      }
    },
    {
      "cell_type": "markdown",
      "source": [
        "## **Task Overview**"
      ],
      "metadata": {
        "id": "8rOgytA7bkNB"
      }
    },
    {
      "cell_type": "markdown",
      "source": [
        "The dataset in you will have downloaded while setting up this notebook is a simulated ```dynamic spectrum```: a 2-dimensional array of observed intensities at different ```observing frequencies``` as a function of ```time```. This data has been generated for a pulsar, and is corrupted with ```radio frequency interference (RFI)```\n",
        "\n",
        "Your task is to load this dataset, RFI mitigate it, and dedisperse it to the correct ```dispersion measure (DM)``` in order to identify the pulsar.\n"
      ],
      "metadata": {
        "id": "WaNhQ3ynbpVL"
      }
    },
    {
      "cell_type": "markdown",
      "source": [
        "### **Section 1: The dynamic spectrum**"
      ],
      "metadata": {
        "id": "VngyNc1CbvE3"
      }
    },
    {
      "cell_type": "markdown",
      "source": [
        "#### **1A: Load the dataset and print its shape**\n",
        "\n"
      ],
      "metadata": {
        "id": "zDjKuY_Sxtey"
      }
    },
    {
      "cell_type": "markdown",
      "source": [
        "Your dynamic spectrum is stored in a numpy array at ```MPhilDIS/bad_data.npy```. In the cell below, load this dataset using the ```numpy.load()``` function, and study its shape using the ```numpy.shape()```function.\n"
      ],
      "metadata": {
        "id": "Sw-NzFy5b2GS"
      }
    },
    {
      "cell_type": "code",
      "source": [
        "#Load your dataset in this cell\n",
        "\n",
        "#load the data\n",
        "data =\n",
        "\n",
        "#print the shape of the data\n",
        "print(data.shape)"
      ],
      "metadata": {
        "id": "9IVGv2zKb22T"
      },
      "execution_count": null,
      "outputs": []
    },
    {
      "cell_type": "markdown",
      "source": [
        "As you can see, the data contains information for 2500 time samples and 512 frequency channels."
      ],
      "metadata": {
        "id": "wI0HmB5dx9DR"
      }
    },
    {
      "cell_type": "markdown",
      "source": [
        "#### **1B: Plot the dynamic spectrum**"
      ],
      "metadata": {
        "id": "kWeWKtqvcSkX"
      }
    },
    {
      "cell_type": "markdown",
      "source": [
        "Now, let's plot this dataset as an image with frequency along the Y-axis and time along the X-axis. To do this, use the ```plt.imshow()``` function.\n",
        "\n",
        "Hint: When plotting the image, make sure to use ```aspect='auto'``` to make it easier to read.\n"
      ],
      "metadata": {
        "id": "W4sElPwZccjp"
      }
    },
    {
      "cell_type": "code",
      "source": [
        "#Plot your dataset in this cell\n",
        "\n"
      ],
      "metadata": {
        "id": "A7WnBaSPcbaj"
      },
      "execution_count": null,
      "outputs": []
    },
    {
      "cell_type": "markdown",
      "source": [
        "#### **1C: Make sure the data is plotted correctly**"
      ],
      "metadata": {
        "id": "0qTA03D1fZN3"
      }
    },
    {
      "cell_type": "markdown",
      "source": [
        "If plotted correctly, you should be able to see horizontal and vertical bands of ```RFI``` in your image. You may also be able to see a faint pulse.\n",
        "\n",
        "As discussed in Lecture 9, when radio pulses travel through ionised environments they are ```dispersed```. As a result of this dispersion, higher frequency radiation arrives before lower frequency radiation. This results in a characteristic exponential sweep across the observing band.\n",
        "\n",
        "Run the cell below and compare it to your result in Section 1B to ensure your data is plotted correctly.\n"
      ],
      "metadata": {
        "id": "E0uEGxOIffjW"
      }
    },
    {
      "cell_type": "code",
      "source": [
        "#initialise the plot\n",
        "fig = plt.figure(figsize=(8,6))\n",
        "ax = fig.add_subplot(111)\n",
        "\n",
        "#plot the dynamic spectrum\n",
        "ax.imshow(data.T,aspect='auto',origin='lower')\n",
        "\n",
        "plt.show()"
      ],
      "metadata": {
        "id": "eChp3iu1chVR"
      },
      "execution_count": null,
      "outputs": []
    },
    {
      "cell_type": "markdown",
      "source": [
        "### **Section 2: Radio Frequency Interference (RFI)**"
      ],
      "metadata": {
        "id": "S8un9JSvgC22"
      }
    },
    {
      "cell_type": "markdown",
      "source": [
        "#### **2A: The distribution of the data**"
      ],
      "metadata": {
        "id": "-46ASkwSuORI"
      }
    },
    {
      "cell_type": "markdown",
      "source": [
        "As discussed in Lecture 9, the ```Radiometer Equation``` assumes that the many sources in the sky contribute to a background of ```Gaussian random noise```. This implies that a histogram of the intensities in a radio observation which is free from RFI should follow a ```Gaussian distribution```.\n",
        "\n",
        "In the cell below, flatten your dataset using ```data.flatten()```, and then plot the result using the matplotlib ```plt.hist()``` function.\n",
        "\n",
        "**Hint:** Make sure to use enough bins for your histogram to see the shape properly."
      ],
      "metadata": {
        "id": "wvgHfSDirRDB"
      }
    },
    {
      "cell_type": "code",
      "source": [
        "#Plot a histogram for your dataset in this cell\n",
        "\n",
        "\n",
        "#plot the histogram\n",
        "plt.hist(data.flatten(),bins=50)\n",
        "\n",
        "plt.show()"
      ],
      "metadata": {
        "id": "9hGDxeR4flLV"
      },
      "execution_count": null,
      "outputs": []
    },
    {
      "cell_type": "markdown",
      "source": [
        "As you should be able to see, this dataset ***does not*** have a simple Gaussian distribution. While the majority of the power is distributed in a Gaussian with a mean ~0, there is also some power visible at much higher values. This excess power is due to the RFI you saw in Section 1."
      ],
      "metadata": {
        "id": "ifg06ThTtiS6"
      }
    },
    {
      "cell_type": "markdown",
      "source": [
        "#### **2B: The Bandpass**"
      ],
      "metadata": {
        "id": "Oh-GgnzmutUv"
      }
    },
    {
      "cell_type": "markdown",
      "source": [
        "Now let's study the RFI more closely. From your dynamic spectrum plots in Section 1, you should have been able to see two types of RFI: ```contaminated frequency channels```, and ```oversaturated timesamples```.\n",
        "\n",
        "The ```contaminated frequency channels``` appear as horizontal stripes of RFI. They are contained to a narrow range of observing frequencies, but they persist over the entire duration of the observation.\n",
        "\n",
        "You can study these contaminated frequency channels more closely by looking at the ```Bandpass``` of the observation. You can create a Bandpass by averaging over the time axis of the data.\n",
        "\n",
        "**Task:** In the cell below, plot the bandpass for this observation. To do this:\n",
        "\n",
        "1.  Use ```data.mean()``` to average over the zeroth (time) axis of the dataset\n",
        "2.  Plot the result.\n",
        "\n"
      ],
      "metadata": {
        "id": "-qY495ibvOmD"
      }
    },
    {
      "cell_type": "code",
      "source": [
        "#Plot the bandpass for your dataset in this cell\n",
        "\n",
        "#initialise the plot\n",
        "fig = plt.figure(figsize=(8,6))\n",
        "ax1 = fig.add_subplot(111)\n",
        "\n",
        "#plot the bandpass\n",
        "ax1.plot(data.mean(axis=0))\n",
        "\n",
        "plt.show()"
      ],
      "metadata": {
        "id": "6UNoovMIxpEV"
      },
      "execution_count": null,
      "outputs": []
    },
    {
      "cell_type": "markdown",
      "source": [
        "#### **The Timeseries**"
      ],
      "metadata": {
        "id": "Sjj6w3ntx5rR"
      }
    },
    {
      "cell_type": "markdown",
      "source": [
        "The other type of RFI present in this dataset are the ```oversaturated timesamples```. These appear as vertical stripes of RFI -- the contamination is constrained to a short timespan, but is so strong that it affects every frequency channel observed during the affected period.\n",
        "\n",
        "You can study these oversaturated timesamples by studying the observation's ```Timeseries```. You can create a timeseries by averaging over the frequency axis of the data.\n",
        "\n",
        "**Task:** In the cell below, plot the timeseries for this observation. To do this:\n",
        "\n",
        "1.  Use ```data.mean()``` to average over the first (frequency) axis of the dataset\n",
        "2.  Plot the result.\n"
      ],
      "metadata": {
        "id": "9TjvK9pqyHbP"
      }
    },
    {
      "cell_type": "code",
      "source": [
        "#Plot the timeseries for your dataset in this cell\n",
        "\n",
        "#initialise the plot\n",
        "fig = plt.figure(figsize=(8,6))\n",
        "ax=fig.add_subplot(111)\n",
        "\n",
        "#plot the timeseties\n",
        "plt.plot(data.mean(axis=1))\n",
        "plt.show()"
      ],
      "metadata": {
        "id": "qo-bgJPNxwGZ"
      },
      "execution_count": null,
      "outputs": []
    },
    {
      "cell_type": "markdown",
      "source": [
        "### **3: RFI Mitigation**"
      ],
      "metadata": {
        "id": "Qv5vtcKb1vU8"
      }
    },
    {
      "cell_type": "markdown",
      "source": [
        "To identify the pulsar in our observation, we will need to remove the RFI we examined in Section 2 to the best of our ability. As discussed in Lecture 9, you can mitigate RFI either by ```treating the cause``` of the RFI at an instrumental or observational level, or by ```addressing the symptoms```.\n",
        "\n",
        "In our case, the data has already been recorded, so we have no choice but to treat the symptoms. This can be done by suppressing, discarding, or replacing the contaminated data.\n",
        "\n",
        "We will use a combination of the masking and statistical thresholding techniques discussed in Lecture 9 to filter out our RFI."
      ],
      "metadata": {
        "id": "KiJmrPlx3LvY"
      }
    },
    {
      "cell_type": "markdown",
      "source": [
        "#### **3A: Masking contaminated frequency channels**"
      ],
      "metadata": {
        "id": "G3V476VE49_S"
      }
    },
    {
      "cell_type": "markdown",
      "source": [
        "In Section 2B we plotted the bandpass for the data, so you should have some idea already about which frequency channels are corrupted in our dataset. Now let's find the exact channels using Python.\n",
        "\n",
        "First, take another look at the bandpass for the observation:"
      ],
      "metadata": {
        "id": "LEYKscxu5T4c"
      }
    },
    {
      "cell_type": "code",
      "source": [
        "#initialise figure\n",
        "fig = plt.figure(figsize=(8,6))\n",
        "ax=fig.add_subplot(111)\n",
        "\n",
        "#define axes\n",
        "ax.set_xlabel('Frequency')\n",
        "ax.set_ylabel('Power (A.U.)')\n",
        "\n",
        "#plot the bandpass\n",
        "ax.plot(data.mean(axis=0))\n",
        "plt.show()"
      ],
      "metadata": {
        "id": "6FOyt3gNzWyO"
      },
      "execution_count": null,
      "outputs": []
    },
    {
      "cell_type": "markdown",
      "source": [
        "The two sets of frequency channels which are contaminated stand out clearly against the rest. The power in these channels dominates the power in other, uncontaminated channels.\n",
        "\n",
        "One way to remove this RFI from our dataset is to mask these contaminated channels. To do this, we must identify the contaminated channels using Python.\n",
        "\n",
        "As the statistics of the contaminated channels are so different to those of the uncontaminated channels, we can use this to our advantage.\n",
        "\n",
        "**Task:** In the cell below, select a part of the data which is not contaminated with RFI and create the bandpass from this"
      ],
      "metadata": {
        "id": "SKTpwntN6V0U"
      }
    },
    {
      "cell_type": "code",
      "source": [
        "#select a good part of the bandpass\n",
        "\n",
        "good_channel_1 =  #select the first channel in the range of good channels\n",
        "good_channel_2 =  #select the last channel in the range of good channels\n",
        "\n",
        "good_bandpass = data[:,good_channel_1:good_channel_2].mean(axis=0) #create the bandpass for your good data"
      ],
      "metadata": {
        "id": "xRNPDmdhCMb-"
      },
      "execution_count": null,
      "outputs": []
    },
    {
      "cell_type": "markdown",
      "source": [
        "Now plot the bandpass using the uncontaminated data:"
      ],
      "metadata": {
        "id": "pTdkepacUwoF"
      }
    },
    {
      "cell_type": "code",
      "source": [
        "#Plot the good part of the bandpass in this cell\n",
        "\n",
        "#initialise figure\n",
        "fig = plt.figure(figsize=(8,6))\n",
        "ax=fig.add_subplot(111)\n",
        "\n",
        "#plot the good part of the bandpass\n",
        "ax.plot(good_bandpass)\n",
        "plt.show()"
      ],
      "metadata": {
        "id": "9x0hLb8FUvzU"
      },
      "execution_count": null,
      "outputs": []
    },
    {
      "cell_type": "markdown",
      "source": [
        "Now use the ```numpy.mean()``` function and the ```numpy.std()``` function to find the mean and standard deviation this part of the bandpass."
      ],
      "metadata": {
        "id": "T9jELbPgCNRS"
      }
    },
    {
      "cell_type": "code",
      "source": [
        "#find mean, standard deviation of the bandpass in this cell\n",
        "\n",
        "mymean_f = #calculate the mean\n",
        "mystdv_f = #calculate the stdv\n",
        "\n",
        "#print the mean and standard deviation of the bandpass\n",
        "print('Mean: {0}, Stdv: {1}'.format(mymean_f,mystdv_f))"
      ],
      "metadata": {
        "id": "MinoYzCA6ITy"
      },
      "execution_count": null,
      "outputs": []
    },
    {
      "cell_type": "markdown",
      "source": [
        "Now we will use Python to identify the parts of the bandpass where the power is very large. To do this we will use the ```numpy.argwhere()``` function.\n",
        "\n",
        "First, let's define a threshold. We will assume that if the bandpass lies above which this threshold, the corresponding frequency channel is contaminated by RFI.\n",
        "\n",
        "Let's set this threshold to be three standard deviations away from the mean."
      ],
      "metadata": {
        "id": "Vw5a-R1E8fKe"
      }
    },
    {
      "cell_type": "code",
      "source": [
        "#define our threshold (3 stdvs from the mean)\n",
        "condition_f = mymean_f+(3*mystdv_f)"
      ],
      "metadata": {
        "id": "Ma5x5WAS8UZ3"
      },
      "execution_count": null,
      "outputs": []
    },
    {
      "cell_type": "markdown",
      "source": [
        "Now use the ```np.argwhere()``` function to find all of the channels in the bandpass which are greater than this threshold. Store this information under the name ```bad_freqs```."
      ],
      "metadata": {
        "id": "C96uKsrSG2pY"
      }
    },
    {
      "cell_type": "code",
      "source": [
        "#identify any bandpass channels which are greater than the threshold\n",
        "bad_freqs = np.argwhere(data.mean(axis=0)>condition_f)\n",
        "\n",
        "print(bad_freqs)"
      ],
      "metadata": {
        "id": "M0WRPDxJG3LW"
      },
      "execution_count": null,
      "outputs": []
    },
    {
      "cell_type": "markdown",
      "source": [
        "Now we've identified our bad frequency channels, it is time to mask them out of our original dynamic spectrum. We will do this using ```numpy```.\n",
        "\n",
        "So that we don't completely overwrite the original dataset, first, let's make a copy of it using the ```numpy.copy()``` function. We will use this copy of the data going forward."
      ],
      "metadata": {
        "id": "VDsPBbN3nWJT"
      }
    },
    {
      "cell_type": "code",
      "source": [
        "#make a copy of the original data\n",
        "data_cleanedfreqs = np.copy(data)"
      ],
      "metadata": {
        "id": "R2vXassWnNAz"
      },
      "execution_count": null,
      "outputs": []
    },
    {
      "cell_type": "markdown",
      "source": [
        "Using our knowledge of the bad frequency channels, we will now mask out all timesamples in our dynamic spectrum which lie in these channels.\n",
        "\n",
        "We created the list of contaminated frequency channels earlier in this Section. Remember that the time axis of the dynamic spectrum is the zeroth axis, and the frequency axis of the dynamic spectrum is the first axis.\n",
        "\n",
        "With this knowledge, we can overwrite the data for all timesamples for only our contaminated frequency channels. Run the cell below to use numpy array manipulation to overwrite every the intensity at every timesample for each of the bad frequency channels in our list with ```np.nan``` values.\n",
        "\n",
        "Note: it is possible to overwrite an element in an array with anything (e.g. with 0, 1, NaN, ...). But in this case, we will use ```np.nan``` values to allow us to ignore these when calculating statistics."
      ],
      "metadata": {
        "id": "tA91br8koJLP"
      }
    },
    {
      "cell_type": "code",
      "source": [
        "#replace all timesamples for our bad frequency channels with np.nan\n",
        "data_cleanedfreqs[:,bad_freqs]=np.nan"
      ],
      "metadata": {
        "id": "26wHgrCQplN5"
      },
      "execution_count": null,
      "outputs": []
    },
    {
      "cell_type": "markdown",
      "source": [
        "Now plot the dynamic spectrum for our masked data in the same way that you plotted the original data in Section 1C to make sure you've masked out the timesamples correctly."
      ],
      "metadata": {
        "id": "MuzBhisPp44F"
      }
    },
    {
      "cell_type": "code",
      "source": [
        "#plot the masked dynamic spectrum in this cell\n"
      ],
      "metadata": {
        "id": "z2ZmM4GJp29H"
      },
      "execution_count": null,
      "outputs": []
    },
    {
      "cell_type": "markdown",
      "source": [
        "If you have removed the data corresponding to the contaminated frequency channels correctly, you should be able to see see gaps in the dynamic spectrum where the contaminated data used to be.\n",
        "\n",
        "Now plot the bandpass for the masked data and inspect it.\n",
        "\n",
        "**Note:** In previous Sections, you used ```data.mean()``` to create the bandpass from the unmasked dataset. As the masked data contains ```np.nan``` values, you should use the ```numpy.nanmean()``` function to create a bandpass from the masked dataset. For more information about this function, you can run ```np.nanmean?```."
      ],
      "metadata": {
        "id": "TWkGr9EVqX5X"
      }
    },
    {
      "cell_type": "code",
      "source": [
        "# plot the masked bandpass in this cell\n",
        "\n"
      ],
      "metadata": {
        "id": "zEhu3vRSqDMk"
      },
      "execution_count": null,
      "outputs": []
    },
    {
      "cell_type": "markdown",
      "source": [
        "If you have removed the bad frequency channels correctly, the strong power in the contaminated channels will be gone, and you should be left with a bandpass that has a much smaller dynamic range."
      ],
      "metadata": {
        "id": "GPD9kT2crOQG"
      }
    },
    {
      "cell_type": "markdown",
      "source": [
        "#### **3B: Replacing bad timesamples**"
      ],
      "metadata": {
        "id": "xkyqGNC8s-Zi"
      }
    },
    {
      "cell_type": "markdown",
      "source": [
        "As you will have seen in the previous Section, even after masking out contaminated frequency channels, there is still some RFI present. These are the times during the observation where the data was oversaturated across the entire observing bandwidth. This RFI must also be masked.\n",
        "\n",
        "To mask the ```oversaturated timesamples```, we will follow a similar procedure to masking the bad frequency channels. First, take another look at the timeseries of the original data in the cell below:"
      ],
      "metadata": {
        "id": "X3QgTzVUtH4y"
      }
    },
    {
      "cell_type": "code",
      "source": [
        "#initialise the plot\n",
        "fig = plt.figure(figsize=(8,6))\n",
        "ax=fig.add_subplot(111)\n",
        "ax.set_xlabel('Time')\n",
        "ax.set_ylabel('Power (A.U.)')\n",
        "\n",
        "#plot the timeseries\n",
        "ax.plot(data.mean(axis=1))\n",
        "\n",
        "plt.show()"
      ],
      "metadata": {
        "id": "go9JfpziqtcE"
      },
      "execution_count": null,
      "outputs": []
    },
    {
      "cell_type": "markdown",
      "source": [
        "There are three moments where the data is oversaturated and stands out clearly against the rest of the observation.\n",
        "\n",
        "First, let's identify these contaminated timesamples using Python. To do this, we will adapt the method we used to identify bad frequency channels in Section 3A.\n",
        "\n",
        "First, identify a section of the timeseries which is uncontaminated and create the timeseries for only this section using ```data.mean()```"
      ],
      "metadata": {
        "id": "Nj_jvgQQt-8k"
      }
    },
    {
      "cell_type": "code",
      "source": [
        "#select a good part of the timeseries in this cell\n",
        "\n",
        "good_time_1 = #select the first timesample in the range of good timesamples\n",
        "good_time_2 = #select the last timesample in the range of good timesamples\n",
        "\n",
        "good_timeseries = data[good_time_1:good_time_2,:].mean(axis=1) #create the timeseries for your good data"
      ],
      "metadata": {
        "id": "11tIwhzGt1WT"
      },
      "execution_count": null,
      "outputs": []
    },
    {
      "cell_type": "markdown",
      "source": [
        "Next, plot this part of the timeseries."
      ],
      "metadata": {
        "id": "xo41FT21Vwm7"
      }
    },
    {
      "cell_type": "code",
      "source": [
        "#plot the uncontaminated part of the timeseries in this cell\n",
        "\n"
      ],
      "metadata": {
        "id": "QbD4jAWsVzBT"
      },
      "execution_count": null,
      "outputs": []
    },
    {
      "cell_type": "markdown",
      "source": [
        "Now find the mean and standard deviation for this part of the timeseries using the ```numpy.mean()``` and ```numpy.std()``` functions."
      ],
      "metadata": {
        "id": "eCCiBeCsVZRG"
      }
    },
    {
      "cell_type": "code",
      "source": [
        "#find mean, standard deviation of the bandpass in this cell\n",
        "\n",
        "mymean_t =  #calculate the mean\n",
        "mystdv_t =  #calculate the stdv\n",
        "\n",
        "print('Mean: {0}, stdv: {1}'.format(mymean_t,mystdv_t))"
      ],
      "metadata": {
        "id": "OtHa6KDsVaZr"
      },
      "execution_count": null,
      "outputs": []
    },
    {
      "cell_type": "markdown",
      "source": [
        "Now let's use Python to identify the parts of the timeseries where the power is more than three standard deviations from the mean, as we did in Section 3A for the bandpass. First, define your threshold, as you did in Section 3A:"
      ],
      "metadata": {
        "id": "somvpH4XvQjc"
      }
    },
    {
      "cell_type": "code",
      "source": [
        "#define our threshold (3 stdvs from the mean) in this cell\n",
        "\n",
        "condition_t ="
      ],
      "metadata": {
        "id": "bxT2uJ8fXQ1l"
      },
      "execution_count": null,
      "outputs": []
    },
    {
      "cell_type": "markdown",
      "source": [
        " Next, use the ```np.argwhere()``` function to identify any parts of the original timeseries which are greater than your threshold. Adapt what you learned in Section 3A to do this.\n",
        "\n",
        "**Hint:** Make sure to average over the appropriate axis."
      ],
      "metadata": {
        "id": "VI5JcJyUXROH"
      }
    },
    {
      "cell_type": "code",
      "source": [
        "#identify any channels which meet the condition in this cell\n",
        "\n",
        "bad_times =\n",
        "\n",
        "print(bad_times)"
      ],
      "metadata": {
        "id": "c1P_0e50vKwM"
      },
      "execution_count": null,
      "outputs": []
    },
    {
      "cell_type": "markdown",
      "source": [
        "As we did in Section 3A, now that we've identified our bad timesamples, it's time to do some masking.\n",
        "\n",
        "This time, we will mask the intensities corresponding to every single frequency channel for each of the times we have identified as being oversaturated.\n",
        "\n",
        "As we did in Section 3A, so that we don't completely overwrite our partially cleaned dynamic spectrum, we will first make a copy of it using the ```numpy.copy()``` function:"
      ],
      "metadata": {
        "id": "Meje_ZudvrVx"
      }
    },
    {
      "cell_type": "code",
      "source": [
        "#make a copy of the partially cleaned dataset\n",
        "data_cleanedtimes = np.copy(data_cleanedfreqs)"
      ],
      "metadata": {
        "id": "ICKkjjhCvn0x"
      },
      "execution_count": null,
      "outputs": []
    },
    {
      "cell_type": "markdown",
      "source": [
        "Now adapt what you learned in Section 3A to overwrite every frequency channel in ```data_cleanedtimes``` for any oversaturated timesamples in our list with ```np.nan``` values.\n",
        "\n",
        "**Hint:** Make sure that you are getting your axes right while overwriting the data!"
      ],
      "metadata": {
        "id": "z6Q7_AeAYl-S"
      }
    },
    {
      "cell_type": "code",
      "source": [
        "#replace all frequency channels for our bad timesamples with np.nans in this cell\n",
        "\n"
      ],
      "metadata": {
        "id": "XMky5Op-Ymcs"
      },
      "execution_count": null,
      "outputs": []
    },
    {
      "cell_type": "markdown",
      "source": [
        "When you have masked every frequency channel for our bad timesamples, plot the masked dynamic spectrum and inspect the data:"
      ],
      "metadata": {
        "id": "P5vbIEVPxTS2"
      }
    },
    {
      "cell_type": "code",
      "source": [
        "#plot the frequency and time-masked dynamic spectrum in this cell\n",
        "\n"
      ],
      "metadata": {
        "id": "p6KPRVYFw0pw"
      },
      "execution_count": null,
      "outputs": []
    },
    {
      "cell_type": "markdown",
      "source": [
        "Naw that you have now removed all of the time and frequency-domain RFI, you should be able to see the dispersed pulse much more easily.\n",
        "\n",
        "As another check, plot the timeseries for the entire masked dataset and inspect it.\n",
        "\n",
        "Note: As in Section 3A, you will have to use the ```numpy.nanmean()``` function to create the timeseries rather than ```data_cleanedtimes.mean()``` as the dataset now contains ```np.nan``` values."
      ],
      "metadata": {
        "id": "Cpf9IH5Y6ZxI"
      }
    },
    {
      "cell_type": "code",
      "source": [
        "#plot the masked timeseries in this cell\n",
        "\n",
        "#initialise the figure\n",
        "fig = plt.figure(figsize=(8,6))\n",
        "ax=fig.add_subplot(111)\n",
        "ax.set_xlabel('Time')\n",
        "ax.set_ylabel('Power (A.U.)')\n",
        "\n",
        "#plot the timeseries\n",
        "ax.plot(np.nanmean(data_cleanedtimes,axis=1))\n",
        "\n",
        "plt.show()"
      ],
      "metadata": {
        "id": "m6V_fYR8wbqs"
      },
      "execution_count": null,
      "outputs": []
    },
    {
      "cell_type": "markdown",
      "source": [
        "By comparing the timeseries' of the masked and unmasked datasets, you should now be able to see that the frequency channels corresponding to oversaturated timesamples have been masked out, and the data has a much smaller dynamic range.\n",
        "\n",
        "Also note that we cannot easily see the single pulse in the timeseries data yet. This is because the pulse has been ```dispersed``` by the ionised matter which lies between us and the source. We will undo this effect by ```dedispersing``` the data in Section 4.\n",
        "\n",
        "To conclude this Section, finish studying the cleaned-up dataset by histogramming it using ```data_cleanedtimes.flatten()``` and the matplotlib ```plt.hist()``` function, in the same way that we histogrammed the original, contaminated dataset in Section 2A."
      ],
      "metadata": {
        "id": "n77gWqKy7ADy"
      }
    },
    {
      "cell_type": "code",
      "source": [
        "#plot the histogram of the masked data in this cell\n",
        "\n"
      ],
      "metadata": {
        "id": "DQomcf45wzoZ"
      },
      "execution_count": null,
      "outputs": []
    },
    {
      "cell_type": "markdown",
      "source": [
        "It should be immediately obvious that this masked dataset looks much more like a Gaussian distribution than the original dataset. This is because the majority of the non-Gaussian data was the RFI which has now been removed."
      ],
      "metadata": {
        "id": "0FQB-Zot7sUg"
      }
    },
    {
      "cell_type": "markdown",
      "source": [
        "### **4: De-disperse the data**"
      ],
      "metadata": {
        "id": "BkZ7YAa08tC1"
      }
    },
    {
      "cell_type": "markdown",
      "source": [
        "#### **4A: Introduction to dedispersion**\n",
        "\n",
        "Remember that the purpose of this Lecture is to identify which pulsar this dataset has been simulated for. To do this, we must identify the pulsar's ```Dispersion Measure (DM)```.\n",
        "\n",
        "As discussed in Lecture 9, a radio signal which travels through an ionised medium will be ```dispersed```. We observe this dispersion as a frequency-dependent delay in the arrival time of the signal. The difference in arrival time $t$ of the parts of a signal at two frequencies $\\nu_{\\rm 1,obs}$ and  $\\nu_{\\rm 2,obs}$ is given by:\n",
        "\n",
        ">${\\Delta}t_{\\rm obs}{\\propto}{\\rm DM_{obs}}\\times\\left({\\nu_{\\rm 1,obs}^{-2}-{\\nu_{\\rm 2,obs}^{-2}}}\\right)$,\n",
        "\n",
        "where the ```Dispersion Measure```, ${\\rm DM_{obs}}$ is given by:\n",
        "\n",
        ">${\\rm DM_{obs}}=\\int^{\\rm z}_{0}\\frac{\\rm n_{e}}{1+{\\rm z}}{\\rm dl}$,\n",
        "\n",
        "where ${\\rm n_e}$ is the ```ionised electron density``` along the line of sight.\n",
        "\n",
        "It is this dispersion which causes the characteristic sweep which you can see in our simulated dataset in Sections 1-3. For a pulsar located in our galaxy, the time delay equation can be simplified to:\n",
        "\n",
        ">${\\Delta}t_{\\rm obs}\\simeq4.15\\times10^6\\;{\\rm ms}\\;\\times \\left({\\nu_{\\rm 1,obs}^{-2}-{\\nu_{\\rm 2,obs}^{-2}}}\\right)\\times{\\rm DM_{obs}}$.\n",
        "\n",
        "\n"
      ],
      "metadata": {
        "id": "dwtzlgPAMwuw"
      }
    },
    {
      "cell_type": "markdown",
      "source": [
        "#### **4B: An attempt at dedispersion**"
      ],
      "metadata": {
        "id": "b5mAQeDAM61U"
      }
    },
    {
      "cell_type": "markdown",
      "source": [
        "In order to dedisperse our dataset, we need some more information about our simulated observation, which we didn't need before.\n",
        "\n",
        "The information we need includes:\n",
        "\n",
        "- The ```bandwidth``` of our observation\n",
        "- The ```minimum frequency``` of our observation\n",
        "- The ```sampling time``` of our observation\n",
        "- The ```number of timesamples``` in our observation\n",
        "\n",
        "This information is listed below."
      ],
      "metadata": {
        "id": "FZKZU77_MJR4"
      }
    },
    {
      "cell_type": "code",
      "source": [
        "# define observational parameters (Note: Please don't change these!)\n",
        "\n",
        "b=400*(10**(-3))   # Frequency bandwidth of observation in GHz\n",
        "mf=1200*(10**(-3)) # Minimum frequency of observation in GHz\n",
        "st=5e-05 * 8          # Sampling time of observation in seconds\n",
        "nt=np.size(data_cleanedtimes,0)  # Number of times sampled during observation"
      ],
      "metadata": {
        "id": "q5_JzqGRMIdE"
      },
      "execution_count": null,
      "outputs": []
    },
    {
      "cell_type": "markdown",
      "source": [
        "We can use this information to re-plot our cleaned dynamic spectrum, with axis information which will provide more physical context for the data we've been working with.\n",
        "\n",
        "As before, we'll first make a copy of our fully masked dynamic spectrum using the ```numpy.copy()``` function in the cell below. We will be working with this copy of the data going forward."
      ],
      "metadata": {
        "id": "JqTnUNp5NSQO"
      }
    },
    {
      "cell_type": "code",
      "source": [
        "#copy the fully masked dataset\n",
        "obs=np.copy(data_cleanedtimes)"
      ],
      "metadata": {
        "id": "WzRROkZNN64m"
      },
      "execution_count": null,
      "outputs": []
    },
    {
      "cell_type": "markdown",
      "source": [
        "Now run the cell below. This will plot to plot the dynamic spectrum which you are now familiar with, including axis information:"
      ],
      "metadata": {
        "id": "CR0Jr8sqOHP_"
      }
    },
    {
      "cell_type": "code",
      "source": [
        "#initialise plot\n",
        "fig=plt.figure(figsize=(6,6))\n",
        "ax1 = fig.add_subplot(111)\n",
        "ax1.set_xlabel('Time (seconds)')\n",
        "ax1.set_ylabel('Frequency (MHz)')\n",
        "extent = [0,nt*st,(mf)/(10**-3),(mf+b)/(10**-3)]\n",
        "\n",
        "#plot the masked dynamic spectrum\n",
        "im1 = ax1.imshow(obs.T,cmap='binary',aspect='auto',origin='lower',extent=extent, norm=col.LogNorm())\n",
        "\n",
        "#create a colorbar\n",
        "fig.subplots_adjust(right=0.7,wspace=0.8)\n",
        "cbar_ax1 = fig.add_axes([0.75,0.57,0.02,0.3])\n",
        "fig.colorbar(im1,cax=cbar_ax1)\n",
        "\n",
        "plt.show()"
      ],
      "metadata": {
        "id": "Y_4FfosLwvM4"
      },
      "execution_count": null,
      "outputs": []
    },
    {
      "cell_type": "markdown",
      "source": [
        "To dedisperse our data, we will be using the ```dedisperse()``` function which we imported at the beginning of this lecture. To take a closer look at how this function works, run the cell below:"
      ],
      "metadata": {
        "id": "NXa6Ar7TCWhv"
      }
    },
    {
      "cell_type": "code",
      "source": [
        "dedisperse?"
      ],
      "metadata": {
        "id": "5B9NnOOPOrvi"
      },
      "execution_count": null,
      "outputs": []
    },
    {
      "cell_type": "markdown",
      "source": [
        "We are finally ready to start dedispersing our data. In the below cell, pick a number in the range 1-250. This will serve as your first estimate for the Dispersion Measure (DM)."
      ],
      "metadata": {
        "id": "b2vc41s7OpjP"
      }
    },
    {
      "cell_type": "code",
      "source": [
        "#Select a DM. Note: pick a value between 1 and 250\n",
        "\n",
        "DM ="
      ],
      "metadata": {
        "id": "CdzxnaO5CbQG"
      },
      "execution_count": null,
      "outputs": []
    },
    {
      "cell_type": "markdown",
      "source": [
        "Now run the cell below. In this cell, the ```dedisperse()``` function uses information such as the observing bandwidth, minimum frequency, and sampling time to dedisperse the dynamic spectrum by a chosen DM.\n",
        "\n",
        "This function works by rolling back the data in each frequency channel in the array by a number of timesamples calculated according to the dedispersion equations discussed in Section 4A. Therefore the ```crop()``` function should also be used to remove any unphysical parts of the dataset."
      ],
      "metadata": {
        "id": "g41Lu2urPT2W"
      }
    },
    {
      "cell_type": "code",
      "source": [
        "#dedisperse the dataset\n",
        "dedispersed_obs,mroll = dedisperse(obs,DM,b,mf,st) # perform the dedispersion\n",
        "dedispersed_obs = crop(dedispersed_obs,mroll)      # crop out the rollover"
      ],
      "metadata": {
        "id": "U1TZUstqhRMK"
      },
      "execution_count": null,
      "outputs": []
    },
    {
      "cell_type": "markdown",
      "source": [
        "Now run the cell below to plot your newly dedispersed, cropped dynamic spectrum."
      ],
      "metadata": {
        "id": "YD-0BEXwhR32"
      }
    },
    {
      "cell_type": "code",
      "source": [
        "#initialise plot\n",
        "fig=plt.figure(figsize=(6,6))\n",
        "ax1 = fig.add_subplot(111)\n",
        "ax1.set_xlabel('Time (seconds)')\n",
        "ax1.set_ylabel('Frequency (MHz)')\n",
        "extent = [(mroll*st),((nt*st)-(mroll*st)),(mf)/(10**-3),(mf+b)/(10**-3)]\n",
        "\n",
        "#plot dedispersed pulse\n",
        "im1=ax1.imshow(dedispersed_obs.T,cmap=cm.Greys,aspect='auto',origin='lower',extent=extent,norm=col.LogNorm())\n",
        "\n",
        "#create a colorbar\n",
        "fig.subplots_adjust(right=0.7,wspace=0.8)\n",
        "cbar_ax1 = fig.add_axes([0.75,0.57,0.02,0.3])\n",
        "fig.colorbar(im1,cax=cbar_ax1)\n",
        "\n",
        "plt.show()"
      ],
      "metadata": {
        "id": "2sTDpCxx9Z5b"
      },
      "execution_count": null,
      "outputs": []
    },
    {
      "cell_type": "markdown",
      "source": [
        "You should be able to see the effects of dedispersion in the plot above. Depending on your choice of DM, the arrival time of the pulse will have shifted as a function of frequency.\n",
        "\n",
        "If you like, you can re-run the steps of Section 4B with a different DM to see how changing this value affects the dataset."
      ],
      "metadata": {
        "id": "UOTwv4ndPyWU"
      }
    },
    {
      "cell_type": "markdown",
      "source": [
        "#### **4C: The dedispersed timeseries**\n",
        "Depending on how close your chosen DM was to the true DM of the pulsar, you may now be able to see the pulse in its timeseries data. In the cell below, create a timeseries plot for your masked, dedispersed observation using the ```numpy.nanmean()``` function, just like you did for the masked data in Section 3B."
      ],
      "metadata": {
        "id": "-uacKkQUqHm8"
      }
    },
    {
      "cell_type": "code",
      "source": [
        "#plot the dedispersed timeseries in this cell\n",
        "\n"
      ],
      "metadata": {
        "id": "1l-H5DE_CYNZ"
      },
      "execution_count": null,
      "outputs": []
    },
    {
      "cell_type": "markdown",
      "source": [
        "Can you see the pulse with the DM you chose?"
      ],
      "metadata": {
        "id": "hX6eKDl1rLxL"
      }
    },
    {
      "cell_type": "markdown",
      "source": [
        "**Note:** We can also use the ```collapse()``` function which we imported at the beginning of this lessen on our cropped, dedispersed timeseries to create a time axis for our timeseries data. To create the timeseries and time axis, run the cell below:"
      ],
      "metadata": {
        "id": "f7iauqG8iIjW"
      }
    },
    {
      "cell_type": "code",
      "source": [
        "#collapse the dedispersed pulse\n",
        "dedispersed_t,dedispersed_signal=collapse(dedispersed_obs,st,mroll)"
      ],
      "metadata": {
        "id": "mYvGcUxDfKRw"
      },
      "execution_count": null,
      "outputs": []
    },
    {
      "cell_type": "markdown",
      "source": [
        "To plot the timeseries data against its time axis, run the cell below:"
      ],
      "metadata": {
        "id": "DRwG0MSHrpjl"
      }
    },
    {
      "cell_type": "code",
      "source": [
        "#initialise plot\n",
        "fig = plt.figure(figsize=(8,12))\n",
        "ax1 = fig.add_subplot(211) #subplot for dynamic spectrum\n",
        "ax2 = fig.add_subplot(212) #subplot for timeseries\n",
        "\n",
        "ax1.set_title('Dedispersed dynamic spectrum') #title for dynamic spectrum\n",
        "ax2.set_title('Dedispersed timeseries') #title for timeseries\n",
        "\n",
        "ax1.set_xlabel('Time (seconds)') #x-axis for dynamic spectrum\n",
        "ax2.set_xlabel('Time (seconds)') #x-axis for timeseries\n",
        "ax1.set_ylabel('Frequency (MHz)') #y-axis for dynamic spectrum\n",
        "ax2.set_ylabel('Power (A.U.)') #y-axis for timeseries\n",
        "\n",
        "#plot the dedispersed dynamic spectrum with its physical information\n",
        "im1 = ax1.imshow(dedispersed_obs.T,cmap=cm.Greys,aspect='auto',origin='lower',extent=[(mroll*st),((nt*st)-(mroll*st)),(mf)/(10**-3),(mf+b)/(10**-3)],norm=col.LogNorm())\n",
        "#plot the dedispersed timeseries with its physical information\n",
        "im2 = ax2.plot(dedispersed_t,dedispersed_signal,label='signal',color='k')\n",
        "\n",
        "plt.show()"
      ],
      "metadata": {
        "id": "6VUd0eFVi7H5"
      },
      "execution_count": null,
      "outputs": []
    },
    {
      "cell_type": "markdown",
      "source": [
        "#### **4D: Finding the true dispersion measure**"
      ],
      "metadata": {
        "id": "p21M7w1hlUWs"
      }
    },
    {
      "cell_type": "markdown",
      "source": [
        "As discussed in previous Sections, the aim of this Lecture is to identify the pulsar that this data was simulated for. To do this, we must identify the true DM of the pulsar.\n",
        "\n",
        "In Section 4A, you will have seen how the visibility of the pulse in the timeseries depends on accurately dedispersing observational data and removing the dispersive effect of any ionised material which the pulse has travelled through on its way to the observer. We are going to exploit this to identify a more accurate DM for our pulsar.\n",
        "\n",
        "First, we need to choose a metric which we can use to gauge how accurately we have dedispersed our dataset. Herem we will use the ```signal-to-noise ratio (S/N)``` of the dedispersed pulse.\n",
        "\n",
        "Run the cell below, to use the ```Sig_To_Noise()``` function and the ```findpeakinfo()``` function to identify the peak of the pulse in our dedispersed timeseries, and calculate the signal's S/N."
      ],
      "metadata": {
        "id": "3HCqCuYUrZqL"
      }
    },
    {
      "cell_type": "code",
      "source": [
        "#calculate S/N and noise\n",
        "dedispersed_SN,dedispersed_avnoise=Sig_To_Noise(dedispersed_t,dedispersed_signal,100)\n",
        "\n",
        "#find peak\n",
        "dedispersed_peaktime,dedispersed_peak = findpeakinfo(dedispersed_t,dedispersed_signal)"
      ],
      "metadata": {
        "id": "Q0VO3IqTkezF"
      },
      "execution_count": null,
      "outputs": []
    },
    {
      "cell_type": "markdown",
      "source": [
        "Now run the cell below to plot the dedispersed timeseries, and overlay its S/N information:"
      ],
      "metadata": {
        "id": "GVq5GELMuYQN"
      }
    },
    {
      "cell_type": "code",
      "source": [
        "#initialise plot\n",
        "fig=plt.figure(figsize=(8,6))\n",
        "fig.suptitle('Figure 4: Peak and peak S/N for our dedispersed image',fontsize=12)\n",
        "ax1 = fig.add_subplot(111)\n",
        "ax1.set_xlabel('Time (seconds)')\n",
        "ax1.set_ylabel('Power (A.U.)')\n",
        "\n",
        "#plot signal\n",
        "im1 = ax1.plot(dedispersed_t,dedispersed_signal,label='signal',color='k')\n",
        "#plot average noise\n",
        "im1 = ax1.axhline(dedispersed_avnoise,color='r',label='average noise')\n",
        "#plot peak\n",
        "im1 = ax1.scatter(dedispersed_peaktime,dedispersed_peak,color='r',s=100,label='peak, S/N = {}'.format(dedispersed_SN))\n",
        "\n",
        "plt.legend()\n",
        "plt.show()"
      ],
      "metadata": {
        "id": "RU7c3V0JuZZo"
      },
      "execution_count": null,
      "outputs": []
    },
    {
      "cell_type": "markdown",
      "source": [
        "Your challenge is now to put everything you've learned together. In the cell below, try to write some code to find the DM which maximises the S/N of our pulse.\n",
        "\n",
        "**Hint:** To do this you should:\n",
        "\n",
        "\n",
        "*   Use a ```for loop``` to loop over a set of dispersion measures\n",
        "*   For each DM:\n",
        " *  Use the ```dedisperse()``` and ```crop()``` functions to dedisperse your cleaned observation\n",
        " * Use the ```collapse()``` function to create a timeseries from your dedispersed data\n",
        " * Use the ```Sig_To_Noise()``` function to calculate the pulse's S/N from your dedispersed timeseries\n",
        " * Store the calculated S/N.\n",
        "*  Once you have looped over every DM and calculated a S/N for each, plot these against each other."
      ],
      "metadata": {
        "id": "LehAUR3dudGf"
      }
    },
    {
      "cell_type": "code",
      "source": [
        "#Caclculate your S/N values in this cell.\n",
        "\n"
      ],
      "metadata": {
        "id": "mJHrnT07tme7"
      },
      "execution_count": null,
      "outputs": []
    },
    {
      "cell_type": "code",
      "source": [
        "#Plot DM vs S/N in this cell.\n",
        "\n"
      ],
      "metadata": {
        "id": "fyQ-TUX8uOSp"
      },
      "execution_count": null,
      "outputs": []
    },
    {
      "cell_type": "markdown",
      "source": [
        "Study the resulting plot of DM vs S/N. You should see that the S/N you calculate approaches its maximum as your estimated DM approaches the true DM for the pulsar. When your DM value is less than the true pulsar DM, the S/N will be reduced, as some of the pulsar's signal is being mixed into the noise. The same is true if you choos a too large DM value. This over-dedisperses the pulse, mixing some of its power into noise, and decreasing S/N.\n",
        "\n",
        "Now we need to calculate the true DM value for this data. To do this:\n",
        "\n",
        "1.   Find the index corresponding to the largest S/N value in your list using the ```np.argmax()``` function\n",
        "2.  Return the value in your list of DMs corresponding to this index.\n",
        "\n"
      ],
      "metadata": {
        "id": "eITOXB2Gzh3d"
      }
    },
    {
      "cell_type": "code",
      "source": [
        "#Calculate the best DM for your observation in this cell.\n",
        "\n",
        "#get index of best S/N\n",
        "index =\n",
        "\n",
        "#get the corresponding DM which has this S/N\n",
        "TrueDM =\n",
        "\n",
        "print('Index: {0}, DM: {1}'.format(index,TrueDM))"
      ],
      "metadata": {
        "id": "wZDdxTTNwoFw"
      },
      "execution_count": null,
      "outputs": []
    },
    {
      "cell_type": "markdown",
      "source": [
        "Congratulations! If you have done everything correctly, you should have found a best DM of ~151 pc/cc."
      ],
      "metadata": {
        "id": "Cw7boxb7y9m0"
      }
    },
    {
      "cell_type": "markdown",
      "source": [
        "### **5: Identify the pulsar**"
      ],
      "metadata": {
        "id": "TT9jiSUR1C2t"
      }
    },
    {
      "cell_type": "markdown",
      "source": [
        "Equipped with our DM, we are finally ready to identify the pulsar that this observation was simulated for.\n",
        "\n",
        "In the cell below is a list of four potential candidate pulsars for our dataset. The list includes the names of the pulsars, their locations on the sky in co-ordinates of ```Right Ascention (RA)``` and ```Declination (DEC)```, and a rough estimate of their distances from Earth according to a commonly used distance model known as the ```NE2001 model```."
      ],
      "metadata": {
        "id": "M6Mg2mpd1IZE"
      }
    },
    {
      "cell_type": "markdown",
      "source": [
        "```\n",
        "|Name         |Right ascention|Declination   | d (pc) |\n",
        "|-------------|---------------|--------------|--------|\n",
        "|PSR B0531+21 |05h 34m 31.93s |+22° 00' 52.2 |2000    |\n",
        "|PSR B0833-45 |08h 35m 20.61s |−45° 10' 34.9 |280     |\n",
        "|PSR B2255+58 |22h 57m 57.74s |+59° 09' 14.8 |3000    |\n",
        "|PSR B0823+26 |08h 26m 51.51s |+26° 37' 21.3 |500     |\n",
        "```"
      ],
      "metadata": {
        "id": "zq8v34kJDl-f"
      }
    },
    {
      "cell_type": "markdown",
      "source": [
        "It is now your job to identify which of these pulsars our data was simulated for. To do this you will use information from the ```ATNF Pulsar Catalogue```, which contains information about the many radio pulsars which have been detected by radio observatories worldwide.\n",
        "\n",
        "To do this:\n",
        "\n",
        "1.   Go to the ATNF pulsar catalog: https://www.atnf.csiro.au/research/pulsar/psrcat/\n",
        "\n",
        "2.   Scroll down until you find the option to ```search by pulsar name```, and type in our pulsars.\n",
        "\n",
        "3.   Search for 'Get Ephemeris', specifying that you want a long ephemeris. This will return a ```pulsar ephemeris``` containing a lot of information for each pulsar.\n",
        "\n",
        "4.   For each of the four pulsars, look for the ```PSRB NAME``` and ```DM```.\n",
        "\n",
        "5.   One of these pulsars will have a DM close to the value we have calculated. Find it, and you will have found our pulsar.\n",
        "\n",
        "\n"
      ],
      "metadata": {
        "id": "vwbIA3jzL87D"
      }
    },
    {
      "cell_type": "markdown",
      "source": [
        "### **6: Thoughts on data intensive science**\n",
        "\n",
        "Congratulations! You should have now correctly identified our pulsar as ```PSR B2255+58```, which has a DM of ```~151 pc/cc``` and lies at a distance of approximately 3kpc from Earth.\n",
        "\n",
        "Now consider the data we have been working with today. You were given:\n",
        "\n",
        "*  An idealised, simulated pulse,\n",
        "*  created for a known object,\n",
        "*  at a known location in the sky,\n",
        "*  with a known DM,\n",
        "*  and the dataset which included relatively easy-to-remove RFI.\n",
        "\n",
        "Think about how long it took us to RFI-mitigate this dataset, dedisperse it by hand to the correct DM, and identify which of just four known pulsars it was simulated for.\n",
        "\n",
        "Now consider what radio astronomers must do when searching for brand new signals during observational surveys. These surveys are carried out over hundreds of hours, and sample vast portions of the sky which may, or may not contain signals of interest. As we do not have any prior knowledge about what the DM of a signal we observe might be, astronomers must search over a large DM range. In addition, not all RFI looks the same, and so algorithms and techniques for RFI removal must be adaptable to different situations.\n",
        "\n",
        "The parameter space searched by radio astronomers is orders of magnitude larger than the dataset which we have studied today. It therefore takes much longer to search for new, undiscovered pulsars and single pulses.\n",
        "\n",
        "As radio observatories become more and more ambitious, high-performance computing, parallel processing, and machine learning will become ever more essential if we want to make the most of the huge amounts of data that we will collect. Data-intensive science is a vital skill to maximise the scientific return from projects like the SKA.\n",
        "\n"
      ],
      "metadata": {
        "id": "wKMRvYTmU4uE"
      }
    },
    {
      "cell_type": "code",
      "source": [],
      "metadata": {
        "id": "JQymZA5J2zID"
      },
      "execution_count": null,
      "outputs": []
    }
  ]
}